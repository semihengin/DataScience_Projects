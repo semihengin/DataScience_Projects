{
  "cells": [
    {
      "cell_type": "markdown",
      "metadata": {
        "id": "view-in-github",
        "colab_type": "text"
      },
      "source": [
        "<a href=\"https://colab.research.google.com/github/semihengin/Data_Science/blob/main/Untitled.ipynb\" target=\"_parent\"><img src=\"https://colab.research.google.com/assets/colab-badge.svg\" alt=\"Open In Colab\"/></a>"
      ]
    },
    {
      "cell_type": "markdown",
      "id": "97f4e69a",
      "metadata": {
        "id": "97f4e69a"
      },
      "source": [
        "# SEMİH ENGİN 191180037"
      ]
    },
    {
      "cell_type": "code",
      "execution_count": 1,
      "id": "3ac94465",
      "metadata": {
        "id": "3ac94465"
      },
      "outputs": [],
      "source": [
        "import pandas as pd\n",
        "import numpy as np\n",
        "from sklearn.datasets import load_iris\n",
        "import graphviz"
      ]
    },
    {
      "cell_type": "markdown",
      "id": "508c1ec2",
      "metadata": {
        "id": "508c1ec2"
      },
      "source": [
        "# Q1 Split the Dataset and Build a Random Forest Classifier"
      ]
    },
    {
      "cell_type": "code",
      "execution_count": 2,
      "id": "ab38a4ff",
      "metadata": {
        "colab": {
          "base_uri": "https://localhost:8080/"
        },
        "id": "ab38a4ff",
        "outputId": "75ef6527-b8e5-4148-bce8-0187edcbe5bb"
      },
      "outputs": [
        {
          "output_type": "execute_result",
          "data": {
            "text/plain": [
              "RandomForestClassifier(n_estimators=10)"
            ]
          },
          "metadata": {},
          "execution_count": 2
        }
      ],
      "source": [
        "from sklearn.ensemble import RandomForestClassifier\n",
        "from sklearn.model_selection import train_test_split\n",
        "\n",
        "df = load_iris()\n",
        "X = df.data\n",
        "y = df.target\n",
        "#I got the iris dataset with the help of the library\n",
        "\n",
        "X_train, X_test, y_train, y_test = train_test_split(X, y, test_size=0.25, random_state=50)\n",
        "#I divided the data into 25% and 75% as training and test set.\n",
        "\n",
        "clf = RandomForestClassifier(n_estimators=10, criterion='gini')\n",
        "#I created Random Forest Classifier with 10 trees and gini index criteria\n",
        "\n",
        "clf.fit(X_train, y_train)\n",
        "#I trained the model using the training data."
      ]
    },
    {
      "cell_type": "markdown",
      "id": "7cd08352",
      "metadata": {
        "id": "7cd08352"
      },
      "source": [
        "# Q2 Evaluate your model on the Test Set"
      ]
    },
    {
      "cell_type": "code",
      "execution_count": 3,
      "id": "44352227",
      "metadata": {
        "colab": {
          "base_uri": "https://localhost:8080/"
        },
        "id": "44352227",
        "outputId": "307c57f8-df7c-4591-c079-1277b1ea219c"
      },
      "outputs": [
        {
          "output_type": "stream",
          "name": "stdout",
          "text": [
            "Confusion Matrix :\n",
            " [[11  0  0]\n",
            " [ 0 14  1]\n",
            " [ 0  1 11]]\n",
            "\n",
            "Accuracy Value: 0.9473684210526315\n",
            "Precision Value: 0.9473684210526315\n",
            "Recall Value: 0.9473684210526315\n",
            "F-1 Score: 0.9473684210526315\n"
          ]
        }
      ],
      "source": [
        "from sklearn.metrics import precision_recall_fscore_support,confusion_matrix, accuracy_score, precision_score, recall_score, f1_score\n",
        "from sklearn.tree import export_graphviz\n",
        "\n",
        "#Estimates were made on the Test data using the trained model.\n",
        "y_pred = clf.predict(X_test)\n",
        "\n",
        "# Confusion matrix\n",
        "cfm = confusion_matrix(y_test, y_pred)\n",
        "print(\"Confusion Matrix :\\n\",(cfm))\n",
        "\n",
        "# Report the accuracy, precision, recall, and f-1 score of the model\n",
        "precision, recall, f1_score, _ = precision_recall_fscore_support(y_test, y_pred, average='micro')\n",
        "print(\"\\nAccuracy Value:\", clf.score(X_test, y_test))\n",
        "print(\"Precision Value:\", precision)\n",
        "print(\"Recall Value:\", recall)\n",
        "print(\"F-1 Score:\", f1_score)"
      ]
    },
    {
      "cell_type": "markdown",
      "id": "48e1998e",
      "metadata": {
        "id": "48e1998e"
      },
      "source": [
        "# Q3 Visualize a Single Tree\n"
      ]
    },
    {
      "cell_type": "code",
      "execution_count": 4,
      "id": "767e0b08",
      "metadata": {
        "colab": {
          "base_uri": "https://localhost:8080/",
          "height": 796
        },
        "id": "767e0b08",
        "outputId": "322f3fb6-a95f-4979-fe49-c984edc647be"
      },
      "outputs": [
        {
          "output_type": "execute_result",
          "data": {
            "text/plain": [
              "<graphviz.files.Source at 0x7f816c440310>"
            ],
            "image/svg+xml": "<?xml version=\"1.0\" encoding=\"UTF-8\" standalone=\"no\"?>\n<!DOCTYPE svg PUBLIC \"-//W3C//DTD SVG 1.1//EN\"\n \"http://www.w3.org/Graphics/SVG/1.1/DTD/svg11.dtd\">\n<!-- Generated by graphviz version 2.40.1 (20161225.0304)\n -->\n<!-- Title: Tree Pages: 1 -->\n<svg width=\"639pt\" height=\"581pt\"\n viewBox=\"0.00 0.00 639.00 581.00\" xmlns=\"http://www.w3.org/2000/svg\" xmlns:xlink=\"http://www.w3.org/1999/xlink\">\n<g id=\"graph0\" class=\"graph\" transform=\"scale(1 1) rotate(0) translate(4 577)\">\n<title>Tree</title>\n<polygon fill=\"#ffffff\" stroke=\"transparent\" points=\"-4,4 -4,-577 635,-577 635,4 -4,4\"/>\n<!-- 0 -->\n<g id=\"node1\" class=\"node\">\n<title>0</title>\n<polygon fill=\"none\" stroke=\"#000000\" points=\"264.5,-573 124.5,-573 124.5,-505 264.5,-505 264.5,-573\"/>\n<text text-anchor=\"middle\" x=\"194.5\" y=\"-557.8\" font-family=\"Helvetica,sans-Serif\" font-size=\"14.00\" fill=\"#000000\">X[2] &lt;= 2.6</text>\n<text text-anchor=\"middle\" x=\"194.5\" y=\"-542.8\" font-family=\"Helvetica,sans-Serif\" font-size=\"14.00\" fill=\"#000000\">gini = 0.642</text>\n<text text-anchor=\"middle\" x=\"194.5\" y=\"-527.8\" font-family=\"Helvetica,sans-Serif\" font-size=\"14.00\" fill=\"#000000\">samples = 74</text>\n<text text-anchor=\"middle\" x=\"194.5\" y=\"-512.8\" font-family=\"Helvetica,sans-Serif\" font-size=\"14.00\" fill=\"#000000\">value = [51, 27, 34]</text>\n</g>\n<!-- 1 -->\n<g id=\"node2\" class=\"node\">\n<title>1</title>\n<polygon fill=\"none\" stroke=\"#000000\" points=\"184,-461.5 61,-461.5 61,-408.5 184,-408.5 184,-461.5\"/>\n<text text-anchor=\"middle\" x=\"122.5\" y=\"-446.3\" font-family=\"Helvetica,sans-Serif\" font-size=\"14.00\" fill=\"#000000\">gini = 0.0</text>\n<text text-anchor=\"middle\" x=\"122.5\" y=\"-431.3\" font-family=\"Helvetica,sans-Serif\" font-size=\"14.00\" fill=\"#000000\">samples = 27</text>\n<text text-anchor=\"middle\" x=\"122.5\" y=\"-416.3\" font-family=\"Helvetica,sans-Serif\" font-size=\"14.00\" fill=\"#000000\">value = [51, 0, 0]</text>\n</g>\n<!-- 0&#45;&gt;1 -->\n<g id=\"edge1\" class=\"edge\">\n<title>0&#45;&gt;1</title>\n<path fill=\"none\" stroke=\"#000000\" d=\"M170.9245,-504.9465C163.1463,-493.7113 154.4861,-481.2021 146.6645,-469.9043\"/>\n<polygon fill=\"#000000\" stroke=\"#000000\" points=\"149.4452,-467.7719 140.8753,-461.5422 143.6898,-471.7564 149.4452,-467.7719\"/>\n<text text-anchor=\"middle\" x=\"136.4032\" y=\"-482.4389\" font-family=\"Helvetica,sans-Serif\" font-size=\"14.00\" fill=\"#000000\">True</text>\n</g>\n<!-- 2 -->\n<g id=\"node3\" class=\"node\">\n<title>2</title>\n<polygon fill=\"none\" stroke=\"#000000\" points=\"333,-469 202,-469 202,-401 333,-401 333,-469\"/>\n<text text-anchor=\"middle\" x=\"267.5\" y=\"-453.8\" font-family=\"Helvetica,sans-Serif\" font-size=\"14.00\" fill=\"#000000\">X[0] &lt;= 6.05</text>\n<text text-anchor=\"middle\" x=\"267.5\" y=\"-438.8\" font-family=\"Helvetica,sans-Serif\" font-size=\"14.00\" fill=\"#000000\">gini = 0.493</text>\n<text text-anchor=\"middle\" x=\"267.5\" y=\"-423.8\" font-family=\"Helvetica,sans-Serif\" font-size=\"14.00\" fill=\"#000000\">samples = 47</text>\n<text text-anchor=\"middle\" x=\"267.5\" y=\"-408.8\" font-family=\"Helvetica,sans-Serif\" font-size=\"14.00\" fill=\"#000000\">value = [0, 27, 34]</text>\n</g>\n<!-- 0&#45;&gt;2 -->\n<g id=\"edge2\" class=\"edge\">\n<title>0&#45;&gt;2</title>\n<path fill=\"none\" stroke=\"#000000\" d=\"M218.4029,-504.9465C224.5791,-496.1475 231.3038,-486.5672 237.739,-477.3993\"/>\n<polygon fill=\"#000000\" stroke=\"#000000\" points=\"240.6629,-479.3258 243.5434,-469.13 234.9334,-475.3041 240.6629,-479.3258\"/>\n<text text-anchor=\"middle\" x=\"247.8563\" y=\"-490.0552\" font-family=\"Helvetica,sans-Serif\" font-size=\"14.00\" fill=\"#000000\">False</text>\n</g>\n<!-- 3 -->\n<g id=\"node4\" class=\"node\">\n<title>3</title>\n<polygon fill=\"none\" stroke=\"#000000\" points=\"258,-365 135,-365 135,-297 258,-297 258,-365\"/>\n<text text-anchor=\"middle\" x=\"196.5\" y=\"-349.8\" font-family=\"Helvetica,sans-Serif\" font-size=\"14.00\" fill=\"#000000\">X[3] &lt;= 1.65</text>\n<text text-anchor=\"middle\" x=\"196.5\" y=\"-334.8\" font-family=\"Helvetica,sans-Serif\" font-size=\"14.00\" fill=\"#000000\">gini = 0.42</text>\n<text text-anchor=\"middle\" x=\"196.5\" y=\"-319.8\" font-family=\"Helvetica,sans-Serif\" font-size=\"14.00\" fill=\"#000000\">samples = 22</text>\n<text text-anchor=\"middle\" x=\"196.5\" y=\"-304.8\" font-family=\"Helvetica,sans-Serif\" font-size=\"14.00\" fill=\"#000000\">value = [0, 21, 9]</text>\n</g>\n<!-- 2&#45;&gt;3 -->\n<g id=\"edge3\" class=\"edge\">\n<title>2&#45;&gt;3</title>\n<path fill=\"none\" stroke=\"#000000\" d=\"M244.2519,-400.9465C238.245,-392.1475 231.7045,-382.5672 225.4457,-373.3993\"/>\n<polygon fill=\"#000000\" stroke=\"#000000\" points=\"228.3293,-371.4155 219.8003,-365.13 222.548,-375.3623 228.3293,-371.4155\"/>\n</g>\n<!-- 10 -->\n<g id=\"node11\" class=\"node\">\n<title>10</title>\n<polygon fill=\"none\" stroke=\"#000000\" points=\"399,-365 276,-365 276,-297 399,-297 399,-365\"/>\n<text text-anchor=\"middle\" x=\"337.5\" y=\"-349.8\" font-family=\"Helvetica,sans-Serif\" font-size=\"14.00\" fill=\"#000000\">X[2] &lt;= 4.75</text>\n<text text-anchor=\"middle\" x=\"337.5\" y=\"-334.8\" font-family=\"Helvetica,sans-Serif\" font-size=\"14.00\" fill=\"#000000\">gini = 0.312</text>\n<text text-anchor=\"middle\" x=\"337.5\" y=\"-319.8\" font-family=\"Helvetica,sans-Serif\" font-size=\"14.00\" fill=\"#000000\">samples = 25</text>\n<text text-anchor=\"middle\" x=\"337.5\" y=\"-304.8\" font-family=\"Helvetica,sans-Serif\" font-size=\"14.00\" fill=\"#000000\">value = [0, 6, 25]</text>\n</g>\n<!-- 2&#45;&gt;10 -->\n<g id=\"edge10\" class=\"edge\">\n<title>2&#45;&gt;10</title>\n<path fill=\"none\" stroke=\"#000000\" d=\"M290.4206,-400.9465C296.2826,-392.2373 302.6598,-382.7626 308.773,-373.6801\"/>\n<polygon fill=\"#000000\" stroke=\"#000000\" points=\"311.8476,-375.3802 314.5279,-365.13 306.0405,-371.4716 311.8476,-375.3802\"/>\n</g>\n<!-- 4 -->\n<g id=\"node5\" class=\"node\">\n<title>4</title>\n<polygon fill=\"none\" stroke=\"#000000\" points=\"123,-253.5 0,-253.5 0,-200.5 123,-200.5 123,-253.5\"/>\n<text text-anchor=\"middle\" x=\"61.5\" y=\"-238.3\" font-family=\"Helvetica,sans-Serif\" font-size=\"14.00\" fill=\"#000000\">gini = 0.0</text>\n<text text-anchor=\"middle\" x=\"61.5\" y=\"-223.3\" font-family=\"Helvetica,sans-Serif\" font-size=\"14.00\" fill=\"#000000\">samples = 15</text>\n<text text-anchor=\"middle\" x=\"61.5\" y=\"-208.3\" font-family=\"Helvetica,sans-Serif\" font-size=\"14.00\" fill=\"#000000\">value = [0, 20, 0]</text>\n</g>\n<!-- 3&#45;&gt;4 -->\n<g id=\"edge4\" class=\"edge\">\n<title>3&#45;&gt;4</title>\n<path fill=\"none\" stroke=\"#000000\" d=\"M152.296,-296.9465C136.8539,-285.0504 119.5578,-271.726 104.2375,-259.9237\"/>\n<polygon fill=\"#000000\" stroke=\"#000000\" points=\"106.0117,-256.8723 95.9538,-253.5422 101.7397,-262.4176 106.0117,-256.8723\"/>\n</g>\n<!-- 5 -->\n<g id=\"node6\" class=\"node\">\n<title>5</title>\n<polygon fill=\"none\" stroke=\"#000000\" points=\"256,-261 141,-261 141,-193 256,-193 256,-261\"/>\n<text text-anchor=\"middle\" x=\"198.5\" y=\"-245.8\" font-family=\"Helvetica,sans-Serif\" font-size=\"14.00\" fill=\"#000000\">X[0] &lt;= 5.85</text>\n<text text-anchor=\"middle\" x=\"198.5\" y=\"-230.8\" font-family=\"Helvetica,sans-Serif\" font-size=\"14.00\" fill=\"#000000\">gini = 0.18</text>\n<text text-anchor=\"middle\" x=\"198.5\" y=\"-215.8\" font-family=\"Helvetica,sans-Serif\" font-size=\"14.00\" fill=\"#000000\">samples = 7</text>\n<text text-anchor=\"middle\" x=\"198.5\" y=\"-200.8\" font-family=\"Helvetica,sans-Serif\" font-size=\"14.00\" fill=\"#000000\">value = [0, 1, 9]</text>\n</g>\n<!-- 3&#45;&gt;5 -->\n<g id=\"edge5\" class=\"edge\">\n<title>3&#45;&gt;5</title>\n<path fill=\"none\" stroke=\"#000000\" d=\"M197.1549,-296.9465C197.312,-288.776 197.4821,-279.9318 197.6467,-271.3697\"/>\n<polygon fill=\"#000000\" stroke=\"#000000\" points=\"201.1506,-271.1955 197.8437,-261.13 194.1519,-271.0608 201.1506,-271.1955\"/>\n</g>\n<!-- 6 -->\n<g id=\"node7\" class=\"node\">\n<title>6</title>\n<polygon fill=\"none\" stroke=\"#000000\" points=\"158,-149.5 43,-149.5 43,-96.5 158,-96.5 158,-149.5\"/>\n<text text-anchor=\"middle\" x=\"100.5\" y=\"-134.3\" font-family=\"Helvetica,sans-Serif\" font-size=\"14.00\" fill=\"#000000\">gini = 0.0</text>\n<text text-anchor=\"middle\" x=\"100.5\" y=\"-119.3\" font-family=\"Helvetica,sans-Serif\" font-size=\"14.00\" fill=\"#000000\">samples = 5</text>\n<text text-anchor=\"middle\" x=\"100.5\" y=\"-104.3\" font-family=\"Helvetica,sans-Serif\" font-size=\"14.00\" fill=\"#000000\">value = [0, 0, 7]</text>\n</g>\n<!-- 5&#45;&gt;6 -->\n<g id=\"edge6\" class=\"edge\">\n<title>5&#45;&gt;6</title>\n<path fill=\"none\" stroke=\"#000000\" d=\"M166.4111,-192.9465C155.5127,-181.3809 143.3422,-168.4652 132.4543,-156.9107\"/>\n<polygon fill=\"#000000\" stroke=\"#000000\" points=\"134.9162,-154.4198 125.5109,-149.5422 129.8217,-159.2204 134.9162,-154.4198\"/>\n</g>\n<!-- 7 -->\n<g id=\"node8\" class=\"node\">\n<title>7</title>\n<polygon fill=\"none\" stroke=\"#000000\" points=\"291,-157 176,-157 176,-89 291,-89 291,-157\"/>\n<text text-anchor=\"middle\" x=\"233.5\" y=\"-141.8\" font-family=\"Helvetica,sans-Serif\" font-size=\"14.00\" fill=\"#000000\">X[2] &lt;= 4.95</text>\n<text text-anchor=\"middle\" x=\"233.5\" y=\"-126.8\" font-family=\"Helvetica,sans-Serif\" font-size=\"14.00\" fill=\"#000000\">gini = 0.444</text>\n<text text-anchor=\"middle\" x=\"233.5\" y=\"-111.8\" font-family=\"Helvetica,sans-Serif\" font-size=\"14.00\" fill=\"#000000\">samples = 2</text>\n<text text-anchor=\"middle\" x=\"233.5\" y=\"-96.8\" font-family=\"Helvetica,sans-Serif\" font-size=\"14.00\" fill=\"#000000\">value = [0, 1, 2]</text>\n</g>\n<!-- 5&#45;&gt;7 -->\n<g id=\"edge7\" class=\"edge\">\n<title>5&#45;&gt;7</title>\n<path fill=\"none\" stroke=\"#000000\" d=\"M209.9603,-192.9465C212.7704,-184.5965 215.8173,-175.5427 218.7577,-166.8056\"/>\n<polygon fill=\"#000000\" stroke=\"#000000\" points=\"222.1415,-167.7241 222.0139,-157.13 215.5071,-165.4913 222.1415,-167.7241\"/>\n</g>\n<!-- 8 -->\n<g id=\"node9\" class=\"node\">\n<title>8</title>\n<polygon fill=\"none\" stroke=\"#000000\" points=\"191,-53 76,-53 76,0 191,0 191,-53\"/>\n<text text-anchor=\"middle\" x=\"133.5\" y=\"-37.8\" font-family=\"Helvetica,sans-Serif\" font-size=\"14.00\" fill=\"#000000\">gini = 0.0</text>\n<text text-anchor=\"middle\" x=\"133.5\" y=\"-22.8\" font-family=\"Helvetica,sans-Serif\" font-size=\"14.00\" fill=\"#000000\">samples = 1</text>\n<text text-anchor=\"middle\" x=\"133.5\" y=\"-7.8\" font-family=\"Helvetica,sans-Serif\" font-size=\"14.00\" fill=\"#000000\">value = [0, 1, 0]</text>\n</g>\n<!-- 7&#45;&gt;8 -->\n<g id=\"edge8\" class=\"edge\">\n<title>7&#45;&gt;8</title>\n<path fill=\"none\" stroke=\"#000000\" d=\"M198.2437,-88.9777C188.5649,-79.6376 178.0765,-69.5163 168.4168,-60.1947\"/>\n<polygon fill=\"#000000\" stroke=\"#000000\" points=\"170.8449,-57.674 161.2186,-53.2485 165.9841,-62.7111 170.8449,-57.674\"/>\n</g>\n<!-- 9 -->\n<g id=\"node10\" class=\"node\">\n<title>9</title>\n<polygon fill=\"none\" stroke=\"#000000\" points=\"324,-53 209,-53 209,0 324,0 324,-53\"/>\n<text text-anchor=\"middle\" x=\"266.5\" y=\"-37.8\" font-family=\"Helvetica,sans-Serif\" font-size=\"14.00\" fill=\"#000000\">gini = 0.0</text>\n<text text-anchor=\"middle\" x=\"266.5\" y=\"-22.8\" font-family=\"Helvetica,sans-Serif\" font-size=\"14.00\" fill=\"#000000\">samples = 1</text>\n<text text-anchor=\"middle\" x=\"266.5\" y=\"-7.8\" font-family=\"Helvetica,sans-Serif\" font-size=\"14.00\" fill=\"#000000\">value = [0, 0, 2]</text>\n</g>\n<!-- 7&#45;&gt;9 -->\n<g id=\"edge9\" class=\"edge\">\n<title>7&#45;&gt;9</title>\n<path fill=\"none\" stroke=\"#000000\" d=\"M245.1346,-88.9777C248.0155,-80.5533 251.1137,-71.4934 254.0325,-62.9579\"/>\n<polygon fill=\"#000000\" stroke=\"#000000\" points=\"257.4288,-63.843 257.3529,-53.2485 250.8054,-61.578 257.4288,-63.843\"/>\n</g>\n<!-- 11 -->\n<g id=\"node12\" class=\"node\">\n<title>11</title>\n<polygon fill=\"none\" stroke=\"#000000\" points=\"393,-253.5 278,-253.5 278,-200.5 393,-200.5 393,-253.5\"/>\n<text text-anchor=\"middle\" x=\"335.5\" y=\"-238.3\" font-family=\"Helvetica,sans-Serif\" font-size=\"14.00\" fill=\"#000000\">gini = 0.0</text>\n<text text-anchor=\"middle\" x=\"335.5\" y=\"-223.3\" font-family=\"Helvetica,sans-Serif\" font-size=\"14.00\" fill=\"#000000\">samples = 5</text>\n<text text-anchor=\"middle\" x=\"335.5\" y=\"-208.3\" font-family=\"Helvetica,sans-Serif\" font-size=\"14.00\" fill=\"#000000\">value = [0, 5, 0]</text>\n</g>\n<!-- 10&#45;&gt;11 -->\n<g id=\"edge11\" class=\"edge\">\n<title>10&#45;&gt;11</title>\n<path fill=\"none\" stroke=\"#000000\" d=\"M336.8451,-296.9465C336.6397,-286.2621 336.412,-274.4254 336.2034,-263.5742\"/>\n<polygon fill=\"#000000\" stroke=\"#000000\" points=\"339.7021,-263.473 336.0104,-253.5422 332.7034,-263.6076 339.7021,-263.473\"/>\n</g>\n<!-- 12 -->\n<g id=\"node13\" class=\"node\">\n<title>12</title>\n<polygon fill=\"none\" stroke=\"#000000\" points=\"534,-261 411,-261 411,-193 534,-193 534,-261\"/>\n<text text-anchor=\"middle\" x=\"472.5\" y=\"-245.8\" font-family=\"Helvetica,sans-Serif\" font-size=\"14.00\" fill=\"#000000\">X[2] &lt;= 4.95</text>\n<text text-anchor=\"middle\" x=\"472.5\" y=\"-230.8\" font-family=\"Helvetica,sans-Serif\" font-size=\"14.00\" fill=\"#000000\">gini = 0.074</text>\n<text text-anchor=\"middle\" x=\"472.5\" y=\"-215.8\" font-family=\"Helvetica,sans-Serif\" font-size=\"14.00\" fill=\"#000000\">samples = 20</text>\n<text text-anchor=\"middle\" x=\"472.5\" y=\"-200.8\" font-family=\"Helvetica,sans-Serif\" font-size=\"14.00\" fill=\"#000000\">value = [0, 1, 25]</text>\n</g>\n<!-- 10&#45;&gt;12 -->\n<g id=\"edge12\" class=\"edge\">\n<title>10&#45;&gt;12</title>\n<path fill=\"none\" stroke=\"#000000\" d=\"M381.704,-296.9465C393.9416,-287.519 407.3436,-277.1946 420.0038,-267.4415\"/>\n<polygon fill=\"#000000\" stroke=\"#000000\" points=\"422.4107,-270.0055 428.1966,-261.13 418.1388,-264.4601 422.4107,-270.0055\"/>\n</g>\n<!-- 13 -->\n<g id=\"node14\" class=\"node\">\n<title>13</title>\n<polygon fill=\"none\" stroke=\"#000000\" points=\"490,-157 375,-157 375,-89 490,-89 490,-157\"/>\n<text text-anchor=\"middle\" x=\"432.5\" y=\"-141.8\" font-family=\"Helvetica,sans-Serif\" font-size=\"14.00\" fill=\"#000000\">X[0] &lt;= 6.6</text>\n<text text-anchor=\"middle\" x=\"432.5\" y=\"-126.8\" font-family=\"Helvetica,sans-Serif\" font-size=\"14.00\" fill=\"#000000\">gini = 0.444</text>\n<text text-anchor=\"middle\" x=\"432.5\" y=\"-111.8\" font-family=\"Helvetica,sans-Serif\" font-size=\"14.00\" fill=\"#000000\">samples = 3</text>\n<text text-anchor=\"middle\" x=\"432.5\" y=\"-96.8\" font-family=\"Helvetica,sans-Serif\" font-size=\"14.00\" fill=\"#000000\">value = [0, 1, 2]</text>\n</g>\n<!-- 12&#45;&gt;13 -->\n<g id=\"edge13\" class=\"edge\">\n<title>12&#45;&gt;13</title>\n<path fill=\"none\" stroke=\"#000000\" d=\"M459.4025,-192.9465C456.1564,-184.5067 452.6338,-175.3479 449.2399,-166.5239\"/>\n<polygon fill=\"#000000\" stroke=\"#000000\" points=\"452.4835,-165.207 445.6269,-157.13 445.9501,-167.7199 452.4835,-165.207\"/>\n</g>\n<!-- 16 -->\n<g id=\"node17\" class=\"node\">\n<title>16</title>\n<polygon fill=\"none\" stroke=\"#000000\" points=\"631,-149.5 508,-149.5 508,-96.5 631,-96.5 631,-149.5\"/>\n<text text-anchor=\"middle\" x=\"569.5\" y=\"-134.3\" font-family=\"Helvetica,sans-Serif\" font-size=\"14.00\" fill=\"#000000\">gini = 0.0</text>\n<text text-anchor=\"middle\" x=\"569.5\" y=\"-119.3\" font-family=\"Helvetica,sans-Serif\" font-size=\"14.00\" fill=\"#000000\">samples = 17</text>\n<text text-anchor=\"middle\" x=\"569.5\" y=\"-104.3\" font-family=\"Helvetica,sans-Serif\" font-size=\"14.00\" fill=\"#000000\">value = [0, 0, 23]</text>\n</g>\n<!-- 12&#45;&gt;16 -->\n<g id=\"edge16\" class=\"edge\">\n<title>12&#45;&gt;16</title>\n<path fill=\"none\" stroke=\"#000000\" d=\"M504.2614,-192.9465C515.0486,-181.3809 527.095,-168.4652 537.8718,-156.9107\"/>\n<polygon fill=\"#000000\" stroke=\"#000000\" points=\"540.4831,-159.2423 544.7443,-149.5422 535.3641,-154.4678 540.4831,-159.2423\"/>\n</g>\n<!-- 14 -->\n<g id=\"node15\" class=\"node\">\n<title>14</title>\n<polygon fill=\"none\" stroke=\"#000000\" points=\"473,-53 358,-53 358,0 473,0 473,-53\"/>\n<text text-anchor=\"middle\" x=\"415.5\" y=\"-37.8\" font-family=\"Helvetica,sans-Serif\" font-size=\"14.00\" fill=\"#000000\">gini = 0.0</text>\n<text text-anchor=\"middle\" x=\"415.5\" y=\"-22.8\" font-family=\"Helvetica,sans-Serif\" font-size=\"14.00\" fill=\"#000000\">samples = 2</text>\n<text text-anchor=\"middle\" x=\"415.5\" y=\"-7.8\" font-family=\"Helvetica,sans-Serif\" font-size=\"14.00\" fill=\"#000000\">value = [0, 0, 2]</text>\n</g>\n<!-- 13&#45;&gt;14 -->\n<g id=\"edge14\" class=\"edge\">\n<title>13&#45;&gt;14</title>\n<path fill=\"none\" stroke=\"#000000\" d=\"M426.5064,-88.9777C425.0385,-80.6449 423.461,-71.6903 421.9717,-63.2364\"/>\n<polygon fill=\"#000000\" stroke=\"#000000\" points=\"425.3941,-62.4896 420.2122,-53.2485 418.5003,-63.7041 425.3941,-62.4896\"/>\n</g>\n<!-- 15 -->\n<g id=\"node16\" class=\"node\">\n<title>15</title>\n<polygon fill=\"none\" stroke=\"#000000\" points=\"606,-53 491,-53 491,0 606,0 606,-53\"/>\n<text text-anchor=\"middle\" x=\"548.5\" y=\"-37.8\" font-family=\"Helvetica,sans-Serif\" font-size=\"14.00\" fill=\"#000000\">gini = 0.0</text>\n<text text-anchor=\"middle\" x=\"548.5\" y=\"-22.8\" font-family=\"Helvetica,sans-Serif\" font-size=\"14.00\" fill=\"#000000\">samples = 1</text>\n<text text-anchor=\"middle\" x=\"548.5\" y=\"-7.8\" font-family=\"Helvetica,sans-Serif\" font-size=\"14.00\" fill=\"#000000\">value = [0, 1, 0]</text>\n</g>\n<!-- 13&#45;&gt;15 -->\n<g id=\"edge15\" class=\"edge\">\n<title>13&#45;&gt;15</title>\n<path fill=\"none\" stroke=\"#000000\" d=\"M473.3973,-88.9777C484.8449,-79.4545 497.2687,-69.1191 508.6545,-59.6473\"/>\n<polygon fill=\"#000000\" stroke=\"#000000\" points=\"510.8971,-62.3345 516.3464,-53.2485 506.4203,-56.9532 510.8971,-62.3345\"/>\n</g>\n</g>\n</svg>\n"
          },
          "metadata": {},
          "execution_count": 4
        }
      ],
      "source": [
        "tree = clf.estimators_[3]\n",
        "#I randomly chose the 3rd tree\n",
        "graph = graphviz.Source(export_graphviz(tree))\n",
        "#I visualized this tree with Graphviz library\n",
        "graph"
      ]
    }
  ],
  "metadata": {
    "kernelspec": {
      "display_name": "Python 3 (ipykernel)",
      "language": "python",
      "name": "python3"
    },
    "language_info": {
      "codemirror_mode": {
        "name": "ipython",
        "version": 3
      },
      "file_extension": ".py",
      "mimetype": "text/x-python",
      "name": "python",
      "nbconvert_exporter": "python",
      "pygments_lexer": "ipython3",
      "version": "3.10.2"
    },
    "colab": {
      "provenance": [],
      "include_colab_link": true
    }
  },
  "nbformat": 4,
  "nbformat_minor": 5
}